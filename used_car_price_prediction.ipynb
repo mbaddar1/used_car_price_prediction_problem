{
 "cells": [
  {
   "cell_type": "markdown",
   "metadata": {},
   "source": [
    "1. Data Processing\n",
    "2. EDA\n",
    "3. Modeling (Attempts) - avoid overfitting\n",
    "4. Evaluation \n",
    "5. Conclusions (Variable importance)"
   ]
  },
  {
   "cell_type": "code",
   "execution_count": 1,
   "metadata": {},
   "outputs": [],
   "source": [
    "import pandas as pd\n",
    "import numpy as np\n",
    "import logging\n",
    "from sklearn.preprocessing import OneHotEncoder\n",
    "from datetime import datetime\n",
    "from sklearn.preprocessing import StandardScaler , MinMaxScaler\n",
    "from sklearn.neural_network import MLPRegressor\n",
    "from sklearn.model_selection import GridSearchCV\n",
    "from seaborn import kdeplot"
   ]
  },
  {
   "cell_type": "code",
   "execution_count": 2,
   "metadata": {},
   "outputs": [],
   "source": [
    "logging.basicConfig(level=logging.INFO)\n",
    "logger = logging.getLogger()"
   ]
  },
  {
   "cell_type": "code",
   "execution_count": 3,
   "metadata": {
    "scrolled": true
   },
   "outputs": [
    {
     "data": {
      "text/html": [
       "<div>\n",
       "<style scoped>\n",
       "    .dataframe tbody tr th:only-of-type {\n",
       "        vertical-align: middle;\n",
       "    }\n",
       "\n",
       "    .dataframe tbody tr th {\n",
       "        vertical-align: top;\n",
       "    }\n",
       "\n",
       "    .dataframe thead th {\n",
       "        text-align: right;\n",
       "    }\n",
       "</style>\n",
       "<table border=\"1\" class=\"dataframe\">\n",
       "  <thead>\n",
       "    <tr style=\"text-align: right;\">\n",
       "      <th></th>\n",
       "      <th>category</th>\n",
       "      <th>make_id</th>\n",
       "      <th>model_id</th>\n",
       "      <th>price__consumer_gross_euro</th>\n",
       "      <th>mileage</th>\n",
       "      <th>first_registration</th>\n",
       "      <th>condition</th>\n",
       "      <th>modification_time</th>\n",
       "      <th>features_central_locking</th>\n",
       "      <th>features_full_service_history</th>\n",
       "      <th>features_hu_au_neu</th>\n",
       "      <th>features_nonsmoker_vehicle</th>\n",
       "      <th>features_adaptive_cruise_ctl</th>\n",
       "      <th>features_abs</th>\n",
       "    </tr>\n",
       "  </thead>\n",
       "  <tbody>\n",
       "    <tr>\n",
       "      <th>2</th>\n",
       "      <td>EstateCar</td>\n",
       "      <td>1900</td>\n",
       "      <td>9.0</td>\n",
       "      <td>16990.000000</td>\n",
       "      <td>94672.0</td>\n",
       "      <td>200602.0</td>\n",
       "      <td>USED</td>\n",
       "      <td>2011-04-06 00:39:09</td>\n",
       "      <td>True</td>\n",
       "      <td>False</td>\n",
       "      <td>False</td>\n",
       "      <td>False</td>\n",
       "      <td>False</td>\n",
       "      <td>True</td>\n",
       "    </tr>\n",
       "    <tr>\n",
       "      <th>3</th>\n",
       "      <td>EstateCar</td>\n",
       "      <td>1900</td>\n",
       "      <td>9.0</td>\n",
       "      <td>9749.990234</td>\n",
       "      <td>176675.0</td>\n",
       "      <td>200606.0</td>\n",
       "      <td>USED</td>\n",
       "      <td>2011-04-06 00:38:39</td>\n",
       "      <td>True</td>\n",
       "      <td>True</td>\n",
       "      <td>False</td>\n",
       "      <td>False</td>\n",
       "      <td>False</td>\n",
       "      <td>True</td>\n",
       "    </tr>\n",
       "    <tr>\n",
       "      <th>4</th>\n",
       "      <td>Limousine</td>\n",
       "      <td>1900</td>\n",
       "      <td>8.0</td>\n",
       "      <td>9960.299805</td>\n",
       "      <td>109230.0</td>\n",
       "      <td>200608.0</td>\n",
       "      <td>USED</td>\n",
       "      <td>2011-06-03 19:16:35</td>\n",
       "      <td>True</td>\n",
       "      <td>False</td>\n",
       "      <td>True</td>\n",
       "      <td>False</td>\n",
       "      <td>False</td>\n",
       "      <td>True</td>\n",
       "    </tr>\n",
       "    <tr>\n",
       "      <th>5</th>\n",
       "      <td>Limousine</td>\n",
       "      <td>1900</td>\n",
       "      <td>8.0</td>\n",
       "      <td>21899.570312</td>\n",
       "      <td>22275.0</td>\n",
       "      <td>201002.0</td>\n",
       "      <td>USED</td>\n",
       "      <td>2011-06-03 19:16:40</td>\n",
       "      <td>True</td>\n",
       "      <td>False</td>\n",
       "      <td>True</td>\n",
       "      <td>False</td>\n",
       "      <td>False</td>\n",
       "      <td>True</td>\n",
       "    </tr>\n",
       "    <tr>\n",
       "      <th>6</th>\n",
       "      <td>EstateCar</td>\n",
       "      <td>1900</td>\n",
       "      <td>9.0</td>\n",
       "      <td>7700.000000</td>\n",
       "      <td>244000.0</td>\n",
       "      <td>200408.0</td>\n",
       "      <td>USED</td>\n",
       "      <td>2011-06-03 19:22:40</td>\n",
       "      <td>True</td>\n",
       "      <td>True</td>\n",
       "      <td>False</td>\n",
       "      <td>False</td>\n",
       "      <td>False</td>\n",
       "      <td>True</td>\n",
       "    </tr>\n",
       "  </tbody>\n",
       "</table>\n",
       "</div>"
      ],
      "text/plain": [
       "    category  make_id  model_id  price__consumer_gross_euro   mileage  \\\n",
       "2  EstateCar     1900       9.0                16990.000000   94672.0   \n",
       "3  EstateCar     1900       9.0                 9749.990234  176675.0   \n",
       "4  Limousine     1900       8.0                 9960.299805  109230.0   \n",
       "5  Limousine     1900       8.0                21899.570312   22275.0   \n",
       "6  EstateCar     1900       9.0                 7700.000000  244000.0   \n",
       "\n",
       "   first_registration condition    modification_time  \\\n",
       "2            200602.0      USED  2011-04-06 00:39:09   \n",
       "3            200606.0      USED  2011-04-06 00:38:39   \n",
       "4            200608.0      USED  2011-06-03 19:16:35   \n",
       "5            201002.0      USED  2011-06-03 19:16:40   \n",
       "6            200408.0      USED  2011-06-03 19:22:40   \n",
       "\n",
       "   features_central_locking  features_full_service_history  \\\n",
       "2                      True                          False   \n",
       "3                      True                           True   \n",
       "4                      True                          False   \n",
       "5                      True                          False   \n",
       "6                      True                           True   \n",
       "\n",
       "   features_hu_au_neu  features_nonsmoker_vehicle  \\\n",
       "2               False                       False   \n",
       "3               False                       False   \n",
       "4                True                       False   \n",
       "5                True                       False   \n",
       "6               False                       False   \n",
       "\n",
       "   features_adaptive_cruise_ctl  features_abs  \n",
       "2                         False          True  \n",
       "3                         False          True  \n",
       "4                         False          True  \n",
       "5                         False          True  \n",
       "6                         False          True  "
      ]
     },
     "execution_count": 3,
     "metadata": {},
     "output_type": "execute_result"
    }
   ],
   "source": [
    "train_df = pd.read_csv('./train.dsv',sep='|')\n",
    "train_df.head()"
   ]
  },
  {
   "cell_type": "markdown",
   "metadata": {},
   "source": [
    "## EDA"
   ]
  },
  {
   "cell_type": "code",
   "execution_count": 4,
   "metadata": {},
   "outputs": [
    {
     "data": {
      "text/plain": [
       "(12876, 14)"
      ]
     },
     "execution_count": 4,
     "metadata": {},
     "output_type": "execute_result"
    }
   ],
   "source": [
    "train_df.shape"
   ]
  },
  {
   "cell_type": "code",
   "execution_count": 5,
   "metadata": {
    "scrolled": true
   },
   "outputs": [
    {
     "data": {
      "text/plain": [
       "category                          object\n",
       "make_id                            int64\n",
       "model_id                         float64\n",
       "price__consumer_gross_euro       float64\n",
       "mileage                          float64\n",
       "first_registration               float64\n",
       "condition                         object\n",
       "modification_time                 object\n",
       "features_central_locking            bool\n",
       "features_full_service_history       bool\n",
       "features_hu_au_neu                  bool\n",
       "features_nonsmoker_vehicle          bool\n",
       "features_adaptive_cruise_ctl        bool\n",
       "features_abs                        bool\n",
       "dtype: object"
      ]
     },
     "execution_count": 5,
     "metadata": {},
     "output_type": "execute_result"
    }
   ],
   "source": [
    "train_df.dtypes"
   ]
  },
  {
   "cell_type": "code",
   "execution_count": 6,
   "metadata": {
    "scrolled": true
   },
   "outputs": [
    {
     "name": "stderr",
     "output_type": "stream",
     "text": [
      "INFO:root:col category has unique values : '['EstateCar' 'Limousine' 'SportsCar' 'Cabrio' 'OffRoad' 'SmallCar'\n",
      " 'OtherCar' 'Van'],         with count = 8\n",
      "INFO:root:col make_id has unique values : '[ 1900 25100],         with count = 2\n",
      "INFO:root:col model_id has unique values : '[ 9.  8. 10. 23. 32. 11.  1. 12. 31. 15. 16.  3. 33. 28. 27.  4. 13. 29.\n",
      " 19. 20. 30.  2.  5. 22. 21.  7. 14. 24.  6. 25. 34. 37. 39. 36. 17. 35.\n",
      " 40. 26. 41. 38. 42. 18. nan],         with count = 43\n",
      "INFO:root:col condition has unique values : '['USED' 'NEW'],         with count = 2\n"
     ]
    }
   ],
   "source": [
    "for col in ['category','make_id','model_id','condition']:\n",
    "    logger.info(f\"col {col} has unique values : '{train_df[col].unique()}, \\\n",
    "        with count = {len(train_df[col].unique())}\")"
   ]
  },
  {
   "cell_type": "code",
   "execution_count": 7,
   "metadata": {},
   "outputs": [
    {
     "data": {
      "text/html": [
       "<div>\n",
       "<style scoped>\n",
       "    .dataframe tbody tr th:only-of-type {\n",
       "        vertical-align: middle;\n",
       "    }\n",
       "\n",
       "    .dataframe tbody tr th {\n",
       "        vertical-align: top;\n",
       "    }\n",
       "\n",
       "    .dataframe thead th {\n",
       "        text-align: right;\n",
       "    }\n",
       "</style>\n",
       "<table border=\"1\" class=\"dataframe\">\n",
       "  <thead>\n",
       "    <tr style=\"text-align: right;\">\n",
       "      <th></th>\n",
       "      <th>category</th>\n",
       "      <th>make_id</th>\n",
       "      <th>model_id</th>\n",
       "      <th>price__consumer_gross_euro</th>\n",
       "      <th>mileage</th>\n",
       "      <th>first_registration</th>\n",
       "      <th>condition</th>\n",
       "      <th>modification_time</th>\n",
       "      <th>features_central_locking</th>\n",
       "      <th>features_full_service_history</th>\n",
       "      <th>features_hu_au_neu</th>\n",
       "      <th>features_nonsmoker_vehicle</th>\n",
       "      <th>features_adaptive_cruise_ctl</th>\n",
       "      <th>features_abs</th>\n",
       "    </tr>\n",
       "  </thead>\n",
       "  <tbody>\n",
       "    <tr>\n",
       "      <th>50</th>\n",
       "      <td>EstateCar</td>\n",
       "      <td>1900</td>\n",
       "      <td>8.0</td>\n",
       "      <td>19999.000000</td>\n",
       "      <td>0.0</td>\n",
       "      <td>NaN</td>\n",
       "      <td>NEW</td>\n",
       "      <td>2009-10-05 13:58:47</td>\n",
       "      <td>True</td>\n",
       "      <td>False</td>\n",
       "      <td>False</td>\n",
       "      <td>False</td>\n",
       "      <td>False</td>\n",
       "      <td>True</td>\n",
       "    </tr>\n",
       "    <tr>\n",
       "      <th>53</th>\n",
       "      <td>SportsCar</td>\n",
       "      <td>1900</td>\n",
       "      <td>31.0</td>\n",
       "      <td>29290.750000</td>\n",
       "      <td>0.0</td>\n",
       "      <td>NaN</td>\n",
       "      <td>NEW</td>\n",
       "      <td>2009-10-05 13:58:37</td>\n",
       "      <td>True</td>\n",
       "      <td>False</td>\n",
       "      <td>False</td>\n",
       "      <td>False</td>\n",
       "      <td>False</td>\n",
       "      <td>True</td>\n",
       "    </tr>\n",
       "    <tr>\n",
       "      <th>114</th>\n",
       "      <td>Cabrio</td>\n",
       "      <td>1900</td>\n",
       "      <td>9.0</td>\n",
       "      <td>33888.820312</td>\n",
       "      <td>0.0</td>\n",
       "      <td>NaN</td>\n",
       "      <td>NEW</td>\n",
       "      <td>2009-10-28 13:15:57</td>\n",
       "      <td>True</td>\n",
       "      <td>False</td>\n",
       "      <td>False</td>\n",
       "      <td>False</td>\n",
       "      <td>False</td>\n",
       "      <td>True</td>\n",
       "    </tr>\n",
       "    <tr>\n",
       "      <th>115</th>\n",
       "      <td>Limousine</td>\n",
       "      <td>1900</td>\n",
       "      <td>11.0</td>\n",
       "      <td>55889.539062</td>\n",
       "      <td>0.0</td>\n",
       "      <td>NaN</td>\n",
       "      <td>NEW</td>\n",
       "      <td>2009-10-28 13:15:57</td>\n",
       "      <td>True</td>\n",
       "      <td>False</td>\n",
       "      <td>False</td>\n",
       "      <td>False</td>\n",
       "      <td>False</td>\n",
       "      <td>True</td>\n",
       "    </tr>\n",
       "    <tr>\n",
       "      <th>117</th>\n",
       "      <td>Limousine</td>\n",
       "      <td>1900</td>\n",
       "      <td>8.0</td>\n",
       "      <td>20448.960938</td>\n",
       "      <td>0.0</td>\n",
       "      <td>NaN</td>\n",
       "      <td>NEW</td>\n",
       "      <td>2009-10-28 13:15:58</td>\n",
       "      <td>True</td>\n",
       "      <td>False</td>\n",
       "      <td>False</td>\n",
       "      <td>False</td>\n",
       "      <td>False</td>\n",
       "      <td>True</td>\n",
       "    </tr>\n",
       "  </tbody>\n",
       "</table>\n",
       "</div>"
      ],
      "text/plain": [
       "      category  make_id  model_id  price__consumer_gross_euro  mileage  \\\n",
       "50   EstateCar     1900       8.0                19999.000000      0.0   \n",
       "53   SportsCar     1900      31.0                29290.750000      0.0   \n",
       "114     Cabrio     1900       9.0                33888.820312      0.0   \n",
       "115  Limousine     1900      11.0                55889.539062      0.0   \n",
       "117  Limousine     1900       8.0                20448.960938      0.0   \n",
       "\n",
       "     first_registration condition    modification_time  \\\n",
       "50                  NaN       NEW  2009-10-05 13:58:47   \n",
       "53                  NaN       NEW  2009-10-05 13:58:37   \n",
       "114                 NaN       NEW  2009-10-28 13:15:57   \n",
       "115                 NaN       NEW  2009-10-28 13:15:57   \n",
       "117                 NaN       NEW  2009-10-28 13:15:58   \n",
       "\n",
       "     features_central_locking  features_full_service_history  \\\n",
       "50                       True                          False   \n",
       "53                       True                          False   \n",
       "114                      True                          False   \n",
       "115                      True                          False   \n",
       "117                      True                          False   \n",
       "\n",
       "     features_hu_au_neu  features_nonsmoker_vehicle  \\\n",
       "50                False                       False   \n",
       "53                False                       False   \n",
       "114               False                       False   \n",
       "115               False                       False   \n",
       "117               False                       False   \n",
       "\n",
       "     features_adaptive_cruise_ctl  features_abs  \n",
       "50                          False          True  \n",
       "53                          False          True  \n",
       "114                         False          True  \n",
       "115                         False          True  \n",
       "117                         False          True  "
      ]
     },
     "execution_count": 7,
     "metadata": {},
     "output_type": "execute_result"
    }
   ],
   "source": [
    "idx = np.isnan(train_df['first_registration'])\n",
    "train_df.loc[idx,].head()"
   ]
  },
  {
   "cell_type": "markdown",
   "metadata": {},
   "source": [
    "### Price EDA"
   ]
  },
  {
   "cell_type": "code",
   "execution_count": 8,
   "metadata": {
    "scrolled": true
   },
   "outputs": [
    {
     "data": {
      "text/plain": [
       "<matplotlib.axes._subplots.AxesSubplot at 0x7f1027eb8be0>"
      ]
     },
     "execution_count": 8,
     "metadata": {},
     "output_type": "execute_result"
    },
    {
     "data": {
      "image/png": "[encoded data removed]",
      "text/plain": [
       "<Figure size 432x288 with 1 Axes>"
      ]
     },
     "metadata": {
      "needs_background": "light"
     },
     "output_type": "display_data"
    }
   ],
   "source": [
    "## assumption 1 , new vs used, is a signifcant two sub data sets\n",
    "price_new =train_df.loc[train_df.condition=='NEW','price__consumer_gross_euro']\n",
    "kdeplot(price_new)"
   ]
  },
  {
   "cell_type": "code",
   "execution_count": 9,
   "metadata": {
    "scrolled": true
   },
   "outputs": [
    {
     "data": {
      "text/plain": [
       "<matplotlib.axes._subplots.AxesSubplot at 0x7f1025746358>"
      ]
     },
     "execution_count": 9,
     "metadata": {},
     "output_type": "execute_result"
    },
    {
     "data": {
      "image/png": "[encoded data removed]",
      "text/plain": [
       "<Figure size 432x288 with 1 Axes>"
      ]
     },
     "metadata": {
      "needs_background": "light"
     },
     "output_type": "display_data"
    }
   ],
   "source": [
    "price_used =train_df.loc[train_df.condition=='USED','price__consumer_gross_euro']\n",
    "kdeplot(price_used)"
   ]
  },
  {
   "cell_type": "markdown",
   "metadata": {},
   "source": [
    "It is clear we have close distributions between used and new, however we have long tails that are considered outliers\n",
    "start with main stream, remove outliers"
   ]
  },
  {
   "cell_type": "code",
   "execution_count": 10,
   "metadata": {
    "scrolled": true
   },
   "outputs": [
    {
     "data": {
      "text/plain": [
       "<matplotlib.axes._subplots.AxesSubplot at 0x7f1025730748>"
      ]
     },
     "execution_count": 10,
     "metadata": {},
     "output_type": "execute_result"
    },
    {
     "data": {
      "image/png": "[encoded data removed]",
      "text/plain": [
       "<Figure size 432x288 with 1 Axes>"
      ]
     },
     "metadata": {
      "needs_background": "light"
     },
     "output_type": "display_data"
    }
   ],
   "source": [
    "price= train_df['price__consumer_gross_euro']\n",
    "kdeplot(price)"
   ]
  },
  {
   "cell_type": "code",
   "execution_count": 11,
   "metadata": {
    "scrolled": true
   },
   "outputs": [
    {
     "data": {
      "text/plain": [
       "count     12876.000000\n",
       "mean      21847.646792\n",
       "std       20034.312170\n",
       "min           1.000000\n",
       "25%        9737.492676\n",
       "50%       17983.495117\n",
       "75%       28499.000000\n",
       "max      304761.000000\n",
       "Name: price__consumer_gross_euro, dtype: float64"
      ]
     },
     "execution_count": 11,
     "metadata": {},
     "output_type": "execute_result"
    }
   ],
   "source": [
    "price.describe()"
   ]
  },
  {
   "cell_type": "code",
   "execution_count": 12,
   "metadata": {
    "scrolled": true
   },
   "outputs": [
    {
     "data": {
      "text/plain": [
       "array([  786.75, 49900.  ])"
      ]
     },
     "execution_count": 12,
     "metadata": {},
     "output_type": "execute_result"
    }
   ],
   "source": [
    "q = np.quantile(price,q=[0.01,0.95])\n",
    "q"
   ]
  },
  {
   "cell_type": "code",
   "execution_count": 13,
   "metadata": {},
   "outputs": [
    {
     "data": {
      "text/plain": [
       "True     12115\n",
       "False      761\n",
       "Name: price__consumer_gross_euro, dtype: int64"
      ]
     },
     "execution_count": 13,
     "metadata": {},
     "output_type": "execute_result"
    }
   ],
   "source": [
    "# count of outliers\n",
    "idx = (q[0] <= price) & (price<=q[1])\n",
    "idx.value_counts()"
   ]
  },
  {
   "cell_type": "code",
   "execution_count": 14,
   "metadata": {},
   "outputs": [
    {
     "data": {
      "text/plain": [
       "0.05910220565392979"
      ]
     },
     "execution_count": 14,
     "metadata": {},
     "output_type": "execute_result"
    }
   ],
   "source": [
    "idx.value_counts()[0]/len(idx)"
   ]
  },
  {
   "cell_type": "code",
   "execution_count": 15,
   "metadata": {},
   "outputs": [],
   "source": [
    "# Data Understanding \n",
    "# what is modification time ?"
   ]
  },
  {
   "cell_type": "markdown",
   "metadata": {},
   "source": [
    "## Data Preprocessing"
   ]
  },
  {
   "cell_type": "code",
   "execution_count": 16,
   "metadata": {},
   "outputs": [],
   "source": [
    "# parse first registration yyyy-mm.0\n",
    "# s = str(int(200602.0))\n",
    "# datetime.strptime(s,'%Y%m')\n",
    "def preprocess(train_df):\n",
    "    #drop na\n",
    "    na_idx = train_df.isnull().any(1)\n",
    "    train_df = train_df.loc[~na_idx,]\n",
    "    train_df['first_registration_date'] = pd.to_datetime(train_df['first_registration'].\\\n",
    "                apply(lambda x: np.datetime64('NaT') if np.isnan(x) else datetime.strptime(str(int(x)),'%Y%m')))\n",
    "    train_df['modification_time'] = pd.to_datetime(train_df['modification_time'])\n",
    "    for col in train_df.columns:\n",
    "        if train_df[col].dtype==bool:\n",
    "            train_df[col] = train_df[col].astype(int)\n",
    "    # remove outliers\n",
    "    price= train_df['price__consumer_gross_euro']\n",
    "    q = np.quantile(price,q=[0.01,0.95])\n",
    "    idx = (q[0] <= price) & (price<=q[1])\n",
    "    train_df = train_df.loc[idx,]\n",
    "    # focus only on used cars , experimented and didn't work\n",
    "    # idx = train_df.condition == 'USED'     \n",
    "    return train_df"
   ]
  },
  {
   "cell_type": "code",
   "execution_count": 17,
   "metadata": {
    "scrolled": true
   },
   "outputs": [
    {
     "name": "stderr",
     "output_type": "stream",
     "text": [
      "/home/mbaddar/mbaddar/ds/ebay_interview/car_price_pred_env/lib/python3.7/site-packages/ipykernel_launcher.py:9: SettingWithCopyWarning: \n",
      "A value is trying to be set on a copy of a slice from a DataFrame.\n",
      "Try using .loc[row_indexer,col_indexer] = value instead\n",
      "\n",
      "See the caveats in the documentation: http://pandas.pydata.org/pandas-docs/stable/user_guide/indexing.html#returning-a-view-versus-a-copy\n",
      "  if __name__ == '__main__':\n",
      "/home/mbaddar/mbaddar/ds/ebay_interview/car_price_pred_env/lib/python3.7/site-packages/ipykernel_launcher.py:10: SettingWithCopyWarning: \n",
      "A value is trying to be set on a copy of a slice from a DataFrame.\n",
      "Try using .loc[row_indexer,col_indexer] = value instead\n",
      "\n",
      "See the caveats in the documentation: http://pandas.pydata.org/pandas-docs/stable/user_guide/indexing.html#returning-a-view-versus-a-copy\n",
      "  # Remove the CWD from sys.path while we load stuff.\n",
      "/home/mbaddar/mbaddar/ds/ebay_interview/car_price_pred_env/lib/python3.7/site-packages/ipykernel_launcher.py:13: SettingWithCopyWarning: \n",
      "A value is trying to be set on a copy of a slice from a DataFrame.\n",
      "Try using .loc[row_indexer,col_indexer] = value instead\n",
      "\n",
      "See the caveats in the documentation: http://pandas.pydata.org/pandas-docs/stable/user_guide/indexing.html#returning-a-view-versus-a-copy\n",
      "  del sys.path[0]\n"
     ]
    },
    {
     "data": {
      "text/html": [
       "<div>\n",
       "<style scoped>\n",
       "    .dataframe tbody tr th:only-of-type {\n",
       "        vertical-align: middle;\n",
       "    }\n",
       "\n",
       "    .dataframe tbody tr th {\n",
       "        vertical-align: top;\n",
       "    }\n",
       "\n",
       "    .dataframe thead th {\n",
       "        text-align: right;\n",
       "    }\n",
       "</style>\n",
       "<table border=\"1\" class=\"dataframe\">\n",
       "  <thead>\n",
       "    <tr style=\"text-align: right;\">\n",
       "      <th></th>\n",
       "      <th>category</th>\n",
       "      <th>make_id</th>\n",
       "      <th>model_id</th>\n",
       "      <th>price__consumer_gross_euro</th>\n",
       "      <th>mileage</th>\n",
       "      <th>first_registration</th>\n",
       "      <th>condition</th>\n",
       "      <th>modification_time</th>\n",
       "      <th>features_central_locking</th>\n",
       "      <th>features_full_service_history</th>\n",
       "      <th>features_hu_au_neu</th>\n",
       "      <th>features_nonsmoker_vehicle</th>\n",
       "      <th>features_adaptive_cruise_ctl</th>\n",
       "      <th>features_abs</th>\n",
       "      <th>first_registration_date</th>\n",
       "    </tr>\n",
       "  </thead>\n",
       "  <tbody>\n",
       "    <tr>\n",
       "      <th>2</th>\n",
       "      <td>EstateCar</td>\n",
       "      <td>1900</td>\n",
       "      <td>9.0</td>\n",
       "      <td>16990.000000</td>\n",
       "      <td>94672.0</td>\n",
       "      <td>200602.0</td>\n",
       "      <td>USED</td>\n",
       "      <td>2011-04-06 00:39:09</td>\n",
       "      <td>1</td>\n",
       "      <td>0</td>\n",
       "      <td>0</td>\n",
       "      <td>0</td>\n",
       "      <td>0</td>\n",
       "      <td>1</td>\n",
       "      <td>2006-02-01</td>\n",
       "    </tr>\n",
       "    <tr>\n",
       "      <th>3</th>\n",
       "      <td>EstateCar</td>\n",
       "      <td>1900</td>\n",
       "      <td>9.0</td>\n",
       "      <td>9749.990234</td>\n",
       "      <td>176675.0</td>\n",
       "      <td>200606.0</td>\n",
       "      <td>USED</td>\n",
       "      <td>2011-04-06 00:38:39</td>\n",
       "      <td>1</td>\n",
       "      <td>1</td>\n",
       "      <td>0</td>\n",
       "      <td>0</td>\n",
       "      <td>0</td>\n",
       "      <td>1</td>\n",
       "      <td>2006-06-01</td>\n",
       "    </tr>\n",
       "    <tr>\n",
       "      <th>4</th>\n",
       "      <td>Limousine</td>\n",
       "      <td>1900</td>\n",
       "      <td>8.0</td>\n",
       "      <td>9960.299805</td>\n",
       "      <td>109230.0</td>\n",
       "      <td>200608.0</td>\n",
       "      <td>USED</td>\n",
       "      <td>2011-06-03 19:16:35</td>\n",
       "      <td>1</td>\n",
       "      <td>0</td>\n",
       "      <td>1</td>\n",
       "      <td>0</td>\n",
       "      <td>0</td>\n",
       "      <td>1</td>\n",
       "      <td>2006-08-01</td>\n",
       "    </tr>\n",
       "    <tr>\n",
       "      <th>5</th>\n",
       "      <td>Limousine</td>\n",
       "      <td>1900</td>\n",
       "      <td>8.0</td>\n",
       "      <td>21899.570312</td>\n",
       "      <td>22275.0</td>\n",
       "      <td>201002.0</td>\n",
       "      <td>USED</td>\n",
       "      <td>2011-06-03 19:16:40</td>\n",
       "      <td>1</td>\n",
       "      <td>0</td>\n",
       "      <td>1</td>\n",
       "      <td>0</td>\n",
       "      <td>0</td>\n",
       "      <td>1</td>\n",
       "      <td>2010-02-01</td>\n",
       "    </tr>\n",
       "    <tr>\n",
       "      <th>6</th>\n",
       "      <td>EstateCar</td>\n",
       "      <td>1900</td>\n",
       "      <td>9.0</td>\n",
       "      <td>7700.000000</td>\n",
       "      <td>244000.0</td>\n",
       "      <td>200408.0</td>\n",
       "      <td>USED</td>\n",
       "      <td>2011-06-03 19:22:40</td>\n",
       "      <td>1</td>\n",
       "      <td>1</td>\n",
       "      <td>0</td>\n",
       "      <td>0</td>\n",
       "      <td>0</td>\n",
       "      <td>1</td>\n",
       "      <td>2004-08-01</td>\n",
       "    </tr>\n",
       "  </tbody>\n",
       "</table>\n",
       "</div>"
      ],
      "text/plain": [
       "    category  make_id  model_id  price__consumer_gross_euro   mileage  \\\n",
       "2  EstateCar     1900       9.0                16990.000000   94672.0   \n",
       "3  EstateCar     1900       9.0                 9749.990234  176675.0   \n",
       "4  Limousine     1900       8.0                 9960.299805  109230.0   \n",
       "5  Limousine     1900       8.0                21899.570312   22275.0   \n",
       "6  EstateCar     1900       9.0                 7700.000000  244000.0   \n",
       "\n",
       "   first_registration condition   modification_time  features_central_locking  \\\n",
       "2            200602.0      USED 2011-04-06 00:39:09                         1   \n",
       "3            200606.0      USED 2011-04-06 00:38:39                         1   \n",
       "4            200608.0      USED 2011-06-03 19:16:35                         1   \n",
       "5            201002.0      USED 2011-06-03 19:16:40                         1   \n",
       "6            200408.0      USED 2011-06-03 19:22:40                         1   \n",
       "\n",
       "   features_full_service_history  features_hu_au_neu  \\\n",
       "2                              0                   0   \n",
       "3                              1                   0   \n",
       "4                              0                   1   \n",
       "5                              0                   1   \n",
       "6                              1                   0   \n",
       "\n",
       "   features_nonsmoker_vehicle  features_adaptive_cruise_ctl  features_abs  \\\n",
       "2                           0                             0             1   \n",
       "3                           0                             0             1   \n",
       "4                           0                             0             1   \n",
       "5                           0                             0             1   \n",
       "6                           0                             0             1   \n",
       "\n",
       "  first_registration_date  \n",
       "2              2006-02-01  \n",
       "3              2006-06-01  \n",
       "4              2006-08-01  \n",
       "5              2010-02-01  \n",
       "6              2004-08-01  "
      ]
     },
     "execution_count": 17,
     "metadata": {},
     "output_type": "execute_result"
    }
   ],
   "source": [
    "train_df_pp = preprocess(train_df)\n",
    "train_df_pp.head()"
   ]
  },
  {
   "cell_type": "code",
   "execution_count": 18,
   "metadata": {},
   "outputs": [
    {
     "data": {
      "text/plain": [
       "<matplotlib.axes._subplots.AxesSubplot at 0x7f10256a6160>"
      ]
     },
     "execution_count": 18,
     "metadata": {},
     "output_type": "execute_result"
    },
    {
     "data": {
      "image/png": "[encoded data removed]",
      "text/plain": [
       "<Figure size 432x288 with 1 Axes>"
      ]
     },
     "metadata": {
      "needs_background": "light"
     },
     "output_type": "display_data"
    }
   ],
   "source": [
    "# plot price after outlier removal\n",
    "kdeplot(train_df_pp['price__consumer_gross_euro'])"
   ]
  },
  {
   "cell_type": "markdown",
   "metadata": {},
   "source": [
    "## Feature Generation"
   ]
  },
  {
   "cell_type": "code",
   "execution_count": 19,
   "metadata": {},
   "outputs": [
    {
     "data": {
      "text/plain": [
       "category                                 object\n",
       "make_id                                   int64\n",
       "model_id                                float64\n",
       "price__consumer_gross_euro              float64\n",
       "mileage                                 float64\n",
       "first_registration                      float64\n",
       "condition                                object\n",
       "modification_time                datetime64[ns]\n",
       "features_central_locking                  int64\n",
       "features_full_service_history             int64\n",
       "features_hu_au_neu                        int64\n",
       "features_nonsmoker_vehicle                int64\n",
       "features_adaptive_cruise_ctl              int64\n",
       "features_abs                              int64\n",
       "first_registration_date          datetime64[ns]\n",
       "dtype: object"
      ]
     },
     "execution_count": 19,
     "metadata": {},
     "output_type": "execute_result"
    }
   ],
   "source": [
    "train_df_pp.dtypes"
   ]
  },
  {
   "cell_type": "code",
   "execution_count": 20,
   "metadata": {},
   "outputs": [],
   "source": [
    "def to_datetime(date):\n",
    "    \"\"\"\n",
    "    Converts a numpy datetime64 object to a python datetime object \n",
    "    Input:\n",
    "      date - a np.datetime64 object\n",
    "    Output:\n",
    "      DATE - a python datetime object\n",
    "    \"\"\"\n",
    "    timestamp = ((date - np.datetime64('1970-01-01T00:00:00'))\n",
    "                 / np.timedelta64(1, 's'))\n",
    "    return datetime.utcfromtimestamp(timestamp)"
   ]
  },
  {
   "cell_type": "code",
   "execution_count": 21,
   "metadata": {},
   "outputs": [],
   "source": [
    "def gen_features(data_in):\n",
    "    data_in['months_since_first_registration'] = data_in['first_registration_date']\\\n",
    "                    .apply(lambda x:np.NaN if pd.isna(x) else (datetime.today()-x).days/30)\n",
    "    # train_df['months_since_modification_time'] = train_df['modification_time']\\\n",
    "    #                  .apply(lambda x:np.NaN if pd.isna(x) else (datetime.today()-x).days/30)\n",
    "    categories_cols = ['category','make_id','model_id','condition']\n",
    "    #enc = OneHotEncoder(categories=categories)\n",
    "    data_dummy = pd.get_dummies(data=data_in,columns=categories_cols,prefix=categories_cols,drop_first=True)\n",
    "    #  train_df_dummy.drop(columns=categories,axis=1)\n",
    "    # delete unneded cols \n",
    "    data_dummy.drop(columns=['first_registration','first_registration_date','modification_time'],inplace=True)\n",
    "    return data_dummy"
   ]
  },
  {
   "cell_type": "code",
   "execution_count": 22,
   "metadata": {
    "scrolled": false
   },
   "outputs": [
    {
     "data": {
      "text/html": [
       "<div>\n",
       "<style scoped>\n",
       "    .dataframe tbody tr th:only-of-type {\n",
       "        vertical-align: middle;\n",
       "    }\n",
       "\n",
       "    .dataframe tbody tr th {\n",
       "        vertical-align: top;\n",
       "    }\n",
       "\n",
       "    .dataframe thead th {\n",
       "        text-align: right;\n",
       "    }\n",
       "</style>\n",
       "<table border=\"1\" class=\"dataframe\">\n",
       "  <thead>\n",
       "    <tr style=\"text-align: right;\">\n",
       "      <th></th>\n",
       "      <th>price__consumer_gross_euro</th>\n",
       "      <th>mileage</th>\n",
       "      <th>features_central_locking</th>\n",
       "      <th>features_full_service_history</th>\n",
       "      <th>features_hu_au_neu</th>\n",
       "      <th>features_nonsmoker_vehicle</th>\n",
       "      <th>features_adaptive_cruise_ctl</th>\n",
       "      <th>features_abs</th>\n",
       "      <th>months_since_first_registration</th>\n",
       "      <th>category_EstateCar</th>\n",
       "      <th>...</th>\n",
       "      <th>model_id_32.0</th>\n",
       "      <th>model_id_33.0</th>\n",
       "      <th>model_id_34.0</th>\n",
       "      <th>model_id_35.0</th>\n",
       "      <th>model_id_36.0</th>\n",
       "      <th>model_id_37.0</th>\n",
       "      <th>model_id_38.0</th>\n",
       "      <th>model_id_39.0</th>\n",
       "      <th>model_id_40.0</th>\n",
       "      <th>model_id_41.0</th>\n",
       "    </tr>\n",
       "  </thead>\n",
       "  <tbody>\n",
       "    <tr>\n",
       "      <th>2</th>\n",
       "      <td>16990.000000</td>\n",
       "      <td>94672.0</td>\n",
       "      <td>1</td>\n",
       "      <td>0</td>\n",
       "      <td>0</td>\n",
       "      <td>0</td>\n",
       "      <td>0</td>\n",
       "      <td>1</td>\n",
       "      <td>169.866667</td>\n",
       "      <td>1</td>\n",
       "      <td>...</td>\n",
       "      <td>0</td>\n",
       "      <td>0</td>\n",
       "      <td>0</td>\n",
       "      <td>0</td>\n",
       "      <td>0</td>\n",
       "      <td>0</td>\n",
       "      <td>0</td>\n",
       "      <td>0</td>\n",
       "      <td>0</td>\n",
       "      <td>0</td>\n",
       "    </tr>\n",
       "    <tr>\n",
       "      <th>3</th>\n",
       "      <td>9749.990234</td>\n",
       "      <td>176675.0</td>\n",
       "      <td>1</td>\n",
       "      <td>1</td>\n",
       "      <td>0</td>\n",
       "      <td>0</td>\n",
       "      <td>0</td>\n",
       "      <td>1</td>\n",
       "      <td>165.866667</td>\n",
       "      <td>1</td>\n",
       "      <td>...</td>\n",
       "      <td>0</td>\n",
       "      <td>0</td>\n",
       "      <td>0</td>\n",
       "      <td>0</td>\n",
       "      <td>0</td>\n",
       "      <td>0</td>\n",
       "      <td>0</td>\n",
       "      <td>0</td>\n",
       "      <td>0</td>\n",
       "      <td>0</td>\n",
       "    </tr>\n",
       "    <tr>\n",
       "      <th>4</th>\n",
       "      <td>9960.299805</td>\n",
       "      <td>109230.0</td>\n",
       "      <td>1</td>\n",
       "      <td>0</td>\n",
       "      <td>1</td>\n",
       "      <td>0</td>\n",
       "      <td>0</td>\n",
       "      <td>1</td>\n",
       "      <td>163.833333</td>\n",
       "      <td>0</td>\n",
       "      <td>...</td>\n",
       "      <td>0</td>\n",
       "      <td>0</td>\n",
       "      <td>0</td>\n",
       "      <td>0</td>\n",
       "      <td>0</td>\n",
       "      <td>0</td>\n",
       "      <td>0</td>\n",
       "      <td>0</td>\n",
       "      <td>0</td>\n",
       "      <td>0</td>\n",
       "    </tr>\n",
       "    <tr>\n",
       "      <th>5</th>\n",
       "      <td>21899.570312</td>\n",
       "      <td>22275.0</td>\n",
       "      <td>1</td>\n",
       "      <td>0</td>\n",
       "      <td>1</td>\n",
       "      <td>0</td>\n",
       "      <td>0</td>\n",
       "      <td>1</td>\n",
       "      <td>121.166667</td>\n",
       "      <td>0</td>\n",
       "      <td>...</td>\n",
       "      <td>0</td>\n",
       "      <td>0</td>\n",
       "      <td>0</td>\n",
       "      <td>0</td>\n",
       "      <td>0</td>\n",
       "      <td>0</td>\n",
       "      <td>0</td>\n",
       "      <td>0</td>\n",
       "      <td>0</td>\n",
       "      <td>0</td>\n",
       "    </tr>\n",
       "    <tr>\n",
       "      <th>6</th>\n",
       "      <td>7700.000000</td>\n",
       "      <td>244000.0</td>\n",
       "      <td>1</td>\n",
       "      <td>1</td>\n",
       "      <td>0</td>\n",
       "      <td>0</td>\n",
       "      <td>0</td>\n",
       "      <td>1</td>\n",
       "      <td>188.166667</td>\n",
       "      <td>1</td>\n",
       "      <td>...</td>\n",
       "      <td>0</td>\n",
       "      <td>0</td>\n",
       "      <td>0</td>\n",
       "      <td>0</td>\n",
       "      <td>0</td>\n",
       "      <td>0</td>\n",
       "      <td>0</td>\n",
       "      <td>0</td>\n",
       "      <td>0</td>\n",
       "      <td>0</td>\n",
       "    </tr>\n",
       "  </tbody>\n",
       "</table>\n",
       "<p>5 rows × 57 columns</p>\n",
       "</div>"
      ],
      "text/plain": [
       "   price__consumer_gross_euro   mileage  features_central_locking  \\\n",
       "2                16990.000000   94672.0                         1   \n",
       "3                 9749.990234  176675.0                         1   \n",
       "4                 9960.299805  109230.0                         1   \n",
       "5                21899.570312   22275.0                         1   \n",
       "6                 7700.000000  244000.0                         1   \n",
       "\n",
       "   features_full_service_history  features_hu_au_neu  \\\n",
       "2                              0                   0   \n",
       "3                              1                   0   \n",
       "4                              0                   1   \n",
       "5                              0                   1   \n",
       "6                              1                   0   \n",
       "\n",
       "   features_nonsmoker_vehicle  features_adaptive_cruise_ctl  features_abs  \\\n",
       "2                           0                             0             1   \n",
       "3                           0                             0             1   \n",
       "4                           0                             0             1   \n",
       "5                           0                             0             1   \n",
       "6                           0                             0             1   \n",
       "\n",
       "   months_since_first_registration  category_EstateCar  ...  model_id_32.0  \\\n",
       "2                       169.866667                   1  ...              0   \n",
       "3                       165.866667                   1  ...              0   \n",
       "4                       163.833333                   0  ...              0   \n",
       "5                       121.166667                   0  ...              0   \n",
       "6                       188.166667                   1  ...              0   \n",
       "\n",
       "   model_id_33.0  model_id_34.0  model_id_35.0  model_id_36.0  model_id_37.0  \\\n",
       "2              0              0              0              0              0   \n",
       "3              0              0              0              0              0   \n",
       "4              0              0              0              0              0   \n",
       "5              0              0              0              0              0   \n",
       "6              0              0              0              0              0   \n",
       "\n",
       "   model_id_38.0  model_id_39.0  model_id_40.0  model_id_41.0  \n",
       "2              0              0              0              0  \n",
       "3              0              0              0              0  \n",
       "4              0              0              0              0  \n",
       "5              0              0              0              0  \n",
       "6              0              0              0              0  \n",
       "\n",
       "[5 rows x 57 columns]"
      ]
     },
     "execution_count": 22,
     "metadata": {},
     "output_type": "execute_result"
    }
   ],
   "source": [
    "train_df_features = gen_features(train_df_pp)\n",
    "train_df_features.head()"
   ]
  },
  {
   "cell_type": "markdown",
   "metadata": {},
   "source": [
    "## Modeling\n",
    "### To attempt:\n",
    "1. NN\n",
    "2. Baseline , regression model"
   ]
  },
  {
   "cell_type": "markdown",
   "metadata": {},
   "source": [
    "### Model (1) MLP:"
   ]
  },
  {
   "cell_type": "code",
   "execution_count": 23,
   "metadata": {
    "scrolled": false
   },
   "outputs": [
    {
     "data": {
      "text/html": [
       "<div>\n",
       "<style scoped>\n",
       "    .dataframe tbody tr th:only-of-type {\n",
       "        vertical-align: middle;\n",
       "    }\n",
       "\n",
       "    .dataframe tbody tr th {\n",
       "        vertical-align: top;\n",
       "    }\n",
       "\n",
       "    .dataframe thead th {\n",
       "        text-align: right;\n",
       "    }\n",
       "</style>\n",
       "<table border=\"1\" class=\"dataframe\">\n",
       "  <thead>\n",
       "    <tr style=\"text-align: right;\">\n",
       "      <th></th>\n",
       "      <th>price__consumer_gross_euro</th>\n",
       "      <th>mileage</th>\n",
       "      <th>features_central_locking</th>\n",
       "      <th>features_full_service_history</th>\n",
       "      <th>features_hu_au_neu</th>\n",
       "      <th>features_nonsmoker_vehicle</th>\n",
       "      <th>features_adaptive_cruise_ctl</th>\n",
       "      <th>features_abs</th>\n",
       "      <th>months_since_first_registration</th>\n",
       "      <th>category_EstateCar</th>\n",
       "      <th>...</th>\n",
       "      <th>model_id_32.0</th>\n",
       "      <th>model_id_33.0</th>\n",
       "      <th>model_id_34.0</th>\n",
       "      <th>model_id_35.0</th>\n",
       "      <th>model_id_36.0</th>\n",
       "      <th>model_id_37.0</th>\n",
       "      <th>model_id_38.0</th>\n",
       "      <th>model_id_39.0</th>\n",
       "      <th>model_id_40.0</th>\n",
       "      <th>model_id_41.0</th>\n",
       "    </tr>\n",
       "  </thead>\n",
       "  <tbody>\n",
       "    <tr>\n",
       "      <th>2</th>\n",
       "      <td>16990.000000</td>\n",
       "      <td>94672.0</td>\n",
       "      <td>1</td>\n",
       "      <td>0</td>\n",
       "      <td>0</td>\n",
       "      <td>0</td>\n",
       "      <td>0</td>\n",
       "      <td>1</td>\n",
       "      <td>169.866667</td>\n",
       "      <td>1</td>\n",
       "      <td>...</td>\n",
       "      <td>0</td>\n",
       "      <td>0</td>\n",
       "      <td>0</td>\n",
       "      <td>0</td>\n",
       "      <td>0</td>\n",
       "      <td>0</td>\n",
       "      <td>0</td>\n",
       "      <td>0</td>\n",
       "      <td>0</td>\n",
       "      <td>0</td>\n",
       "    </tr>\n",
       "    <tr>\n",
       "      <th>3</th>\n",
       "      <td>9749.990234</td>\n",
       "      <td>176675.0</td>\n",
       "      <td>1</td>\n",
       "      <td>1</td>\n",
       "      <td>0</td>\n",
       "      <td>0</td>\n",
       "      <td>0</td>\n",
       "      <td>1</td>\n",
       "      <td>165.866667</td>\n",
       "      <td>1</td>\n",
       "      <td>...</td>\n",
       "      <td>0</td>\n",
       "      <td>0</td>\n",
       "      <td>0</td>\n",
       "      <td>0</td>\n",
       "      <td>0</td>\n",
       "      <td>0</td>\n",
       "      <td>0</td>\n",
       "      <td>0</td>\n",
       "      <td>0</td>\n",
       "      <td>0</td>\n",
       "    </tr>\n",
       "    <tr>\n",
       "      <th>4</th>\n",
       "      <td>9960.299805</td>\n",
       "      <td>109230.0</td>\n",
       "      <td>1</td>\n",
       "      <td>0</td>\n",
       "      <td>1</td>\n",
       "      <td>0</td>\n",
       "      <td>0</td>\n",
       "      <td>1</td>\n",
       "      <td>163.833333</td>\n",
       "      <td>0</td>\n",
       "      <td>...</td>\n",
       "      <td>0</td>\n",
       "      <td>0</td>\n",
       "      <td>0</td>\n",
       "      <td>0</td>\n",
       "      <td>0</td>\n",
       "      <td>0</td>\n",
       "      <td>0</td>\n",
       "      <td>0</td>\n",
       "      <td>0</td>\n",
       "      <td>0</td>\n",
       "    </tr>\n",
       "    <tr>\n",
       "      <th>5</th>\n",
       "      <td>21899.570312</td>\n",
       "      <td>22275.0</td>\n",
       "      <td>1</td>\n",
       "      <td>0</td>\n",
       "      <td>1</td>\n",
       "      <td>0</td>\n",
       "      <td>0</td>\n",
       "      <td>1</td>\n",
       "      <td>121.166667</td>\n",
       "      <td>0</td>\n",
       "      <td>...</td>\n",
       "      <td>0</td>\n",
       "      <td>0</td>\n",
       "      <td>0</td>\n",
       "      <td>0</td>\n",
       "      <td>0</td>\n",
       "      <td>0</td>\n",
       "      <td>0</td>\n",
       "      <td>0</td>\n",
       "      <td>0</td>\n",
       "      <td>0</td>\n",
       "    </tr>\n",
       "    <tr>\n",
       "      <th>6</th>\n",
       "      <td>7700.000000</td>\n",
       "      <td>244000.0</td>\n",
       "      <td>1</td>\n",
       "      <td>1</td>\n",
       "      <td>0</td>\n",
       "      <td>0</td>\n",
       "      <td>0</td>\n",
       "      <td>1</td>\n",
       "      <td>188.166667</td>\n",
       "      <td>1</td>\n",
       "      <td>...</td>\n",
       "      <td>0</td>\n",
       "      <td>0</td>\n",
       "      <td>0</td>\n",
       "      <td>0</td>\n",
       "      <td>0</td>\n",
       "      <td>0</td>\n",
       "      <td>0</td>\n",
       "      <td>0</td>\n",
       "      <td>0</td>\n",
       "      <td>0</td>\n",
       "    </tr>\n",
       "  </tbody>\n",
       "</table>\n",
       "<p>5 rows × 57 columns</p>\n",
       "</div>"
      ],
      "text/plain": [
       "   price__consumer_gross_euro   mileage  features_central_locking  \\\n",
       "2                16990.000000   94672.0                         1   \n",
       "3                 9749.990234  176675.0                         1   \n",
       "4                 9960.299805  109230.0                         1   \n",
       "5                21899.570312   22275.0                         1   \n",
       "6                 7700.000000  244000.0                         1   \n",
       "\n",
       "   features_full_service_history  features_hu_au_neu  \\\n",
       "2                              0                   0   \n",
       "3                              1                   0   \n",
       "4                              0                   1   \n",
       "5                              0                   1   \n",
       "6                              1                   0   \n",
       "\n",
       "   features_nonsmoker_vehicle  features_adaptive_cruise_ctl  features_abs  \\\n",
       "2                           0                             0             1   \n",
       "3                           0                             0             1   \n",
       "4                           0                             0             1   \n",
       "5                           0                             0             1   \n",
       "6                           0                             0             1   \n",
       "\n",
       "   months_since_first_registration  category_EstateCar  ...  model_id_32.0  \\\n",
       "2                       169.866667                   1  ...              0   \n",
       "3                       165.866667                   1  ...              0   \n",
       "4                       163.833333                   0  ...              0   \n",
       "5                       121.166667                   0  ...              0   \n",
       "6                       188.166667                   1  ...              0   \n",
       "\n",
       "   model_id_33.0  model_id_34.0  model_id_35.0  model_id_36.0  model_id_37.0  \\\n",
       "2              0              0              0              0              0   \n",
       "3              0              0              0              0              0   \n",
       "4              0              0              0              0              0   \n",
       "5              0              0              0              0              0   \n",
       "6              0              0              0              0              0   \n",
       "\n",
       "   model_id_38.0  model_id_39.0  model_id_40.0  model_id_41.0  \n",
       "2              0              0              0              0  \n",
       "3              0              0              0              0  \n",
       "4              0              0              0              0  \n",
       "5              0              0              0              0  \n",
       "6              0              0              0              0  \n",
       "\n",
       "[5 rows x 57 columns]"
      ]
     },
     "execution_count": 23,
     "metadata": {},
     "output_type": "execute_result"
    }
   ],
   "source": [
    "train_df_features.head()"
   ]
  },
  {
   "cell_type": "markdown",
   "metadata": {},
   "source": [
    "### Features, Scaling / Normalizing\n",
    "https://towardsdatascience.com/scale-standardize-or-normalize-with-scikit-learn-6ccc7d176a02"
   ]
  },
  {
   "cell_type": "code",
   "execution_count": 24,
   "metadata": {},
   "outputs": [],
   "source": [
    "def scale_normalize_features(data_in):    \n",
    "    # TODO experiment other scalars based on better EDA for cols distributions\n",
    "    #months_since_modification_time\n",
    "    features_to_scale = ['mileage','months_since_first_registration']\n",
    "    scaler = MinMaxScaler().fit(data_in[features_to_scale])\n",
    "    mtx_scaled_features = pd.DataFrame(data=scaler.transform(data_in[features_to_scale])\\\n",
    "                                       ,columns=[f +'_scaled' for f in features_to_scale])\n",
    "    mtx_scaled_features['join_key'] = list(np.arange(mtx_scaled_features.shape[0]))\n",
    "#     print('mtx_scaled_feat')\n",
    "#     print(mtx_scaled_features.head())\n",
    "    data_in_dropped = data_in.drop(columns = features_to_scale)\n",
    "    data_in_dropped['join_key'] = list(np.arange(mtx_scaled_features.shape[0]))\n",
    "#     print('data_in_dropped')\n",
    "#     print(data_in_dropped.head())\n",
    "    #data_in_scaled = pd.concat([data_in_dropped,mtx_scaled_features],axis=1,ignore_index=True)\n",
    "    data_in_scaled = pd.merge(left=data_in_dropped,right=mtx_scaled_features,on='join_key')\n",
    "    data_in_scaled.drop(columns='join_key',inplace=True)\n",
    "    return data_in_scaled"
   ]
  },
  {
   "cell_type": "code",
   "execution_count": 25,
   "metadata": {
    "scrolled": true
   },
   "outputs": [
    {
     "data": {
      "text/html": [
       "<div>\n",
       "<style scoped>\n",
       "    .dataframe tbody tr th:only-of-type {\n",
       "        vertical-align: middle;\n",
       "    }\n",
       "\n",
       "    .dataframe tbody tr th {\n",
       "        vertical-align: top;\n",
       "    }\n",
       "\n",
       "    .dataframe thead th {\n",
       "        text-align: right;\n",
       "    }\n",
       "</style>\n",
       "<table border=\"1\" class=\"dataframe\">\n",
       "  <thead>\n",
       "    <tr style=\"text-align: right;\">\n",
       "      <th></th>\n",
       "      <th>price__consumer_gross_euro</th>\n",
       "      <th>features_central_locking</th>\n",
       "      <th>features_full_service_history</th>\n",
       "      <th>features_hu_au_neu</th>\n",
       "      <th>features_nonsmoker_vehicle</th>\n",
       "      <th>features_adaptive_cruise_ctl</th>\n",
       "      <th>features_abs</th>\n",
       "      <th>category_EstateCar</th>\n",
       "      <th>category_Limousine</th>\n",
       "      <th>category_OffRoad</th>\n",
       "      <th>...</th>\n",
       "      <th>model_id_34.0</th>\n",
       "      <th>model_id_35.0</th>\n",
       "      <th>model_id_36.0</th>\n",
       "      <th>model_id_37.0</th>\n",
       "      <th>model_id_38.0</th>\n",
       "      <th>model_id_39.0</th>\n",
       "      <th>model_id_40.0</th>\n",
       "      <th>model_id_41.0</th>\n",
       "      <th>mileage_scaled</th>\n",
       "      <th>months_since_first_registration_scaled</th>\n",
       "    </tr>\n",
       "  </thead>\n",
       "  <tbody>\n",
       "    <tr>\n",
       "      <th>0</th>\n",
       "      <td>16990.000000</td>\n",
       "      <td>1</td>\n",
       "      <td>0</td>\n",
       "      <td>0</td>\n",
       "      <td>0</td>\n",
       "      <td>0</td>\n",
       "      <td>1</td>\n",
       "      <td>1</td>\n",
       "      <td>0</td>\n",
       "      <td>0</td>\n",
       "      <td>...</td>\n",
       "      <td>0</td>\n",
       "      <td>0</td>\n",
       "      <td>0</td>\n",
       "      <td>0</td>\n",
       "      <td>0</td>\n",
       "      <td>0</td>\n",
       "      <td>0</td>\n",
       "      <td>0</td>\n",
       "      <td>0.039121</td>\n",
       "      <td>0.149023</td>\n",
       "    </tr>\n",
       "    <tr>\n",
       "      <th>1</th>\n",
       "      <td>9749.990234</td>\n",
       "      <td>1</td>\n",
       "      <td>1</td>\n",
       "      <td>0</td>\n",
       "      <td>0</td>\n",
       "      <td>0</td>\n",
       "      <td>1</td>\n",
       "      <td>1</td>\n",
       "      <td>0</td>\n",
       "      <td>0</td>\n",
       "      <td>...</td>\n",
       "      <td>0</td>\n",
       "      <td>0</td>\n",
       "      <td>0</td>\n",
       "      <td>0</td>\n",
       "      <td>0</td>\n",
       "      <td>0</td>\n",
       "      <td>0</td>\n",
       "      <td>0</td>\n",
       "      <td>0.073006</td>\n",
       "      <td>0.143478</td>\n",
       "    </tr>\n",
       "    <tr>\n",
       "      <th>2</th>\n",
       "      <td>9960.299805</td>\n",
       "      <td>1</td>\n",
       "      <td>0</td>\n",
       "      <td>1</td>\n",
       "      <td>0</td>\n",
       "      <td>0</td>\n",
       "      <td>1</td>\n",
       "      <td>0</td>\n",
       "      <td>1</td>\n",
       "      <td>0</td>\n",
       "      <td>...</td>\n",
       "      <td>0</td>\n",
       "      <td>0</td>\n",
       "      <td>0</td>\n",
       "      <td>0</td>\n",
       "      <td>0</td>\n",
       "      <td>0</td>\n",
       "      <td>0</td>\n",
       "      <td>0</td>\n",
       "      <td>0.045136</td>\n",
       "      <td>0.140659</td>\n",
       "    </tr>\n",
       "    <tr>\n",
       "      <th>3</th>\n",
       "      <td>21899.570312</td>\n",
       "      <td>1</td>\n",
       "      <td>0</td>\n",
       "      <td>1</td>\n",
       "      <td>0</td>\n",
       "      <td>0</td>\n",
       "      <td>1</td>\n",
       "      <td>0</td>\n",
       "      <td>1</td>\n",
       "      <td>0</td>\n",
       "      <td>...</td>\n",
       "      <td>0</td>\n",
       "      <td>0</td>\n",
       "      <td>0</td>\n",
       "      <td>0</td>\n",
       "      <td>0</td>\n",
       "      <td>0</td>\n",
       "      <td>0</td>\n",
       "      <td>0</td>\n",
       "      <td>0.009205</td>\n",
       "      <td>0.081512</td>\n",
       "    </tr>\n",
       "    <tr>\n",
       "      <th>4</th>\n",
       "      <td>7700.000000</td>\n",
       "      <td>1</td>\n",
       "      <td>1</td>\n",
       "      <td>0</td>\n",
       "      <td>0</td>\n",
       "      <td>0</td>\n",
       "      <td>1</td>\n",
       "      <td>1</td>\n",
       "      <td>0</td>\n",
       "      <td>0</td>\n",
       "      <td>...</td>\n",
       "      <td>0</td>\n",
       "      <td>0</td>\n",
       "      <td>0</td>\n",
       "      <td>0</td>\n",
       "      <td>0</td>\n",
       "      <td>0</td>\n",
       "      <td>0</td>\n",
       "      <td>0</td>\n",
       "      <td>0.100826</td>\n",
       "      <td>0.174391</td>\n",
       "    </tr>\n",
       "  </tbody>\n",
       "</table>\n",
       "<p>5 rows × 57 columns</p>\n",
       "</div>"
      ],
      "text/plain": [
       "   price__consumer_gross_euro  features_central_locking  \\\n",
       "0                16990.000000                         1   \n",
       "1                 9749.990234                         1   \n",
       "2                 9960.299805                         1   \n",
       "3                21899.570312                         1   \n",
       "4                 7700.000000                         1   \n",
       "\n",
       "   features_full_service_history  features_hu_au_neu  \\\n",
       "0                              0                   0   \n",
       "1                              1                   0   \n",
       "2                              0                   1   \n",
       "3                              0                   1   \n",
       "4                              1                   0   \n",
       "\n",
       "   features_nonsmoker_vehicle  features_adaptive_cruise_ctl  features_abs  \\\n",
       "0                           0                             0             1   \n",
       "1                           0                             0             1   \n",
       "2                           0                             0             1   \n",
       "3                           0                             0             1   \n",
       "4                           0                             0             1   \n",
       "\n",
       "   category_EstateCar  category_Limousine  category_OffRoad  ...  \\\n",
       "0                   1                   0                 0  ...   \n",
       "1                   1                   0                 0  ...   \n",
       "2                   0                   1                 0  ...   \n",
       "3                   0                   1                 0  ...   \n",
       "4                   1                   0                 0  ...   \n",
       "\n",
       "   model_id_34.0  model_id_35.0  model_id_36.0  model_id_37.0  model_id_38.0  \\\n",
       "0              0              0              0              0              0   \n",
       "1              0              0              0              0              0   \n",
       "2              0              0              0              0              0   \n",
       "3              0              0              0              0              0   \n",
       "4              0              0              0              0              0   \n",
       "\n",
       "   model_id_39.0  model_id_40.0  model_id_41.0  mileage_scaled  \\\n",
       "0              0              0              0        0.039121   \n",
       "1              0              0              0        0.073006   \n",
       "2              0              0              0        0.045136   \n",
       "3              0              0              0        0.009205   \n",
       "4              0              0              0        0.100826   \n",
       "\n",
       "   months_since_first_registration_scaled  \n",
       "0                                0.149023  \n",
       "1                                0.143478  \n",
       "2                                0.140659  \n",
       "3                                0.081512  \n",
       "4                                0.174391  \n",
       "\n",
       "[5 rows x 57 columns]"
      ]
     },
     "execution_count": 25,
     "metadata": {},
     "output_type": "execute_result"
    }
   ],
   "source": [
    "train_df_features_scaled = scale_normalize_features(train_df_features)\n",
    "train_df_features_scaled.head()"
   ]
  },
  {
   "cell_type": "code",
   "execution_count": 26,
   "metadata": {},
   "outputs": [],
   "source": [
    "#https://scikit-learn.org/stable/auto_examples/plot_partial_dependence_visualization_api.html#sphx-glr-auto-examples-plot-partial-dependence-visualization-api-py"
   ]
  },
  {
   "cell_type": "code",
   "execution_count": 27,
   "metadata": {
    "scrolled": true
   },
   "outputs": [
    {
     "data": {
      "text/plain": [
       "Index(['features_central_locking', 'features_full_service_history',\n",
       "       'features_hu_au_neu', 'features_nonsmoker_vehicle',\n",
       "       'features_adaptive_cruise_ctl', 'features_abs', 'category_EstateCar',\n",
       "       'category_Limousine', 'category_OffRoad', 'category_OtherCar',\n",
       "       'category_SmallCar', 'category_SportsCar', 'category_Van',\n",
       "       'make_id_25100', 'model_id_2.0', 'model_id_3.0', 'model_id_4.0',\n",
       "       'model_id_5.0', 'model_id_6.0', 'model_id_7.0', 'model_id_8.0',\n",
       "       'model_id_9.0', 'model_id_10.0', 'model_id_11.0', 'model_id_12.0',\n",
       "       'model_id_13.0', 'model_id_14.0', 'model_id_15.0', 'model_id_16.0',\n",
       "       'model_id_17.0', 'model_id_18.0', 'model_id_19.0', 'model_id_20.0',\n",
       "       'model_id_21.0', 'model_id_22.0', 'model_id_23.0', 'model_id_24.0',\n",
       "       'model_id_25.0', 'model_id_26.0', 'model_id_27.0', 'model_id_28.0',\n",
       "       'model_id_29.0', 'model_id_30.0', 'model_id_31.0', 'model_id_32.0',\n",
       "       'model_id_33.0', 'model_id_34.0', 'model_id_35.0', 'model_id_36.0',\n",
       "       'model_id_37.0', 'model_id_38.0', 'model_id_39.0', 'model_id_40.0',\n",
       "       'model_id_41.0', 'mileage_scaled',\n",
       "       'months_since_first_registration_scaled'],\n",
       "      dtype='object')"
      ]
     },
     "execution_count": 27,
     "metadata": {},
     "output_type": "execute_result"
    }
   ],
   "source": [
    "y_colname = 'price__consumer_gross_euro'\n",
    "y = train_df_features_scaled[y_colname]\n",
    "X = train_df_features_scaled.drop(columns=y_colname)\n",
    "X.columns"
   ]
  },
  {
   "cell_type": "code",
   "execution_count": 28,
   "metadata": {},
   "outputs": [
    {
     "data": {
      "text/plain": [
       "(10777, 56)"
      ]
     },
     "execution_count": 28,
     "metadata": {},
     "output_type": "execute_result"
    }
   ],
   "source": [
    "X.shape"
   ]
  },
  {
   "cell_type": "code",
   "execution_count": 29,
   "metadata": {},
   "outputs": [
    {
     "data": {
      "text/plain": [
       "(10777,)"
      ]
     },
     "execution_count": 29,
     "metadata": {},
     "output_type": "execute_result"
    }
   ],
   "source": [
    "y.shape"
   ]
  },
  {
   "cell_type": "code",
   "execution_count": 30,
   "metadata": {},
   "outputs": [],
   "source": [
    "# Drop any row having NA, think of better imputing approach\n",
    "x_na_idx = X.isnull().any(1)\n",
    "X_non_na = X.loc[~x_na_idx,]\n",
    "y_non_na = y.loc[~x_na_idx,]"
   ]
  },
  {
   "cell_type": "code",
   "execution_count": 31,
   "metadata": {
    "scrolled": false
   },
   "outputs": [],
   "source": [
    "# mlp = MLPRegressor(hidden_layer_sizes=(1000),tol=1e-2, max_iter=10000, random_state=0,verbose=False\\\n",
    "#                    ,learning_rate_init=5,learning_rate='adaptive')\n",
    "# mlp_fit = mlp.fit(X_non_na,y_non_na)\n",
    "# mlp_fit"
   ]
  },
  {
   "cell_type": "markdown",
   "metadata": {},
   "source": [
    "### use Grid_cv_search"
   ]
  },
  {
   "cell_type": "code",
   "execution_count": 33,
   "metadata": {},
   "outputs": [
    {
     "name": "stdout",
     "output_type": "stream",
     "text": [
      "Fitting 5 folds for each of 40 candidates, totalling 200 fits\n"
     ]
    },
    {
     "name": "stderr",
     "output_type": "stream",
     "text": [
      "[Parallel(n_jobs=4)]: Using backend LokyBackend with 4 concurrent workers.\n",
      "[Parallel(n_jobs=4)]: Done  88 tasks      | elapsed:   40.0s\n",
      "[Parallel(n_jobs=4)]: Done 200 out of 200 | elapsed:  4.3min finished\n"
     ]
    }
   ],
   "source": [
    "param_grid = {'activation':['identitiy','logistic','tanh', 'relu'],\\\n",
    "             'hidden_layer_sizes':[(40,),(60,),(80,),(100,),(50,50),(100,100)],\\\n",
    "             'learning_rate_init':[1,10],\\\n",
    "             'tol' : [0.001],\\\n",
    "             'alpha':list(10.0 ** -np.arange(1, 2))}\n",
    "mlp = MLPRegressor()\n",
    "grid_search_cv_fit = GridSearchCV(estimator=mlp,param_grid=param_grid,verbose=True\\\n",
    "                                  ,scoring='neg_root_mean_squared_error'\\\n",
    "                                  ,n_jobs=4)\\\n",
    "                .fit(X_non_na,y_non_na)"
   ]
  },
  {
   "cell_type": "code",
   "execution_count": 34,
   "metadata": {},
   "outputs": [
    {
     "data": {
      "text/plain": [
       "MLPRegressor(activation='relu', alpha=0.1, batch_size='auto', beta_1=0.9,\n",
       "             beta_2=0.999, early_stopping=False, epsilon=1e-08,\n",
       "             hidden_layer_sizes=(100,), learning_rate='constant',\n",
       "             learning_rate_init=1, max_fun=15000, max_iter=200, momentum=0.9,\n",
       "             n_iter_no_change=10, nesterovs_momentum=True, power_t=0.5,\n",
       "             random_state=None, shuffle=True, solver='adam', tol=0.001,\n",
       "             validation_fraction=0.1, verbose=False, warm_start=False)"
      ]
     },
     "execution_count": 34,
     "metadata": {},
     "output_type": "execute_result"
    }
   ],
   "source": [
    "grid_search_cv_fit.best_estimator_"
   ]
  },
  {
   "cell_type": "code",
   "execution_count": 35,
   "metadata": {
    "scrolled": true
   },
   "outputs": [],
   "source": [
    "neg_rmse = grid_search_cv_fit.best_score_"
   ]
  },
  {
   "cell_type": "code",
   "execution_count": 36,
   "metadata": {},
   "outputs": [
    {
     "data": {
      "text/plain": [
       "<matplotlib.axes._subplots.AxesSubplot at 0x7f102549ceb8>"
      ]
     },
     "execution_count": 36,
     "metadata": {},
     "output_type": "execute_result"
    },
    {
     "data": {
      "image/png": "[encoded data removed]",
      "text/plain": [
       "<Figure size 432x288 with 1 Axes>"
      ]
     },
     "metadata": {
      "needs_background": "light"
     },
     "output_type": "display_data"
    }
   ],
   "source": [
    "kdeplot(y_non_na)"
   ]
  },
  {
   "cell_type": "code",
   "execution_count": 37,
   "metadata": {
    "scrolled": true
   },
   "outputs": [
    {
     "data": {
      "text/plain": [
       "0.13288308569147955"
      ]
     },
     "execution_count": 37,
     "metadata": {},
     "output_type": "execute_result"
    }
   ],
   "source": [
    "q = np.quantile(y_non_na,q=[0.05,0.95])\n",
    "nrmsd = -neg_rmse/(q[1]-q[0])\n",
    "nrmsd"
   ]
  },
  {
   "cell_type": "markdown",
   "metadata": {},
   "source": [
    "## Grid CV results summary\n",
    "\n",
    "[Parallel(n_jobs=4)]: Using backend LokyBackend with 4 concurrent workers.\n",
    "\n",
    "[Parallel(n_jobs=4)]: Done  40 out of  40 | elapsed:  3.1min finished"
   ]
  },
  {
   "cell_type": "code",
   "execution_count": 38,
   "metadata": {},
   "outputs": [],
   "source": [
    "# cross validation\n",
    "# over under estimating prices\n",
    "# https://scikit-learn.org/stable/modules/neural_networks_supervised.html#tips-on-practical-use\n",
    "# https://machinelearningmastery.com/how-to-configure-the-number-of-layers-and-nodes-in-a-neural-network/\n",
    "#https://scikit-learn.org/stable/modules/model_evaluation.html#scoring-parameter"
   ]
  },
  {
   "cell_type": "markdown",
   "metadata": {},
   "source": [
    "## Apply on Test Data"
   ]
  },
  {
   "cell_type": "code",
   "execution_count": 39,
   "metadata": {
    "scrolled": true
   },
   "outputs": [
    {
     "data": {
      "text/html": [
       "<div>\n",
       "<style scoped>\n",
       "    .dataframe tbody tr th:only-of-type {\n",
       "        vertical-align: middle;\n",
       "    }\n",
       "\n",
       "    .dataframe tbody tr th {\n",
       "        vertical-align: top;\n",
       "    }\n",
       "\n",
       "    .dataframe thead th {\n",
       "        text-align: right;\n",
       "    }\n",
       "</style>\n",
       "<table border=\"1\" class=\"dataframe\">\n",
       "  <thead>\n",
       "    <tr style=\"text-align: right;\">\n",
       "      <th></th>\n",
       "      <th>category</th>\n",
       "      <th>make_id</th>\n",
       "      <th>model_id</th>\n",
       "      <th>price__consumer_gross_euro</th>\n",
       "      <th>mileage</th>\n",
       "      <th>first_registration</th>\n",
       "      <th>condition</th>\n",
       "      <th>modification_time</th>\n",
       "      <th>features_central_locking</th>\n",
       "      <th>features_full_service_history</th>\n",
       "      <th>features_hu_au_neu</th>\n",
       "      <th>features_nonsmoker_vehicle</th>\n",
       "      <th>features_adaptive_cruise_ctl</th>\n",
       "      <th>features_abs</th>\n",
       "    </tr>\n",
       "  </thead>\n",
       "  <tbody>\n",
       "    <tr>\n",
       "      <th>1</th>\n",
       "      <td>EstateCar</td>\n",
       "      <td>1900</td>\n",
       "      <td>9.0</td>\n",
       "      <td>11349.990234</td>\n",
       "      <td>175461.0</td>\n",
       "      <td>200801.0</td>\n",
       "      <td>USED</td>\n",
       "      <td>2011-04-06 00:38:39</td>\n",
       "      <td>True</td>\n",
       "      <td>True</td>\n",
       "      <td>False</td>\n",
       "      <td>False</td>\n",
       "      <td>False</td>\n",
       "      <td>True</td>\n",
       "    </tr>\n",
       "    <tr>\n",
       "      <th>9</th>\n",
       "      <td>EstateCar</td>\n",
       "      <td>1900</td>\n",
       "      <td>10.0</td>\n",
       "      <td>9380.000000</td>\n",
       "      <td>105000.0</td>\n",
       "      <td>200201.0</td>\n",
       "      <td>USED</td>\n",
       "      <td>2011-06-03 19:23:27</td>\n",
       "      <td>True</td>\n",
       "      <td>True</td>\n",
       "      <td>False</td>\n",
       "      <td>False</td>\n",
       "      <td>False</td>\n",
       "      <td>True</td>\n",
       "    </tr>\n",
       "    <tr>\n",
       "      <th>17</th>\n",
       "      <td>EstateCar</td>\n",
       "      <td>1900</td>\n",
       "      <td>9.0</td>\n",
       "      <td>18900.000000</td>\n",
       "      <td>68050.0</td>\n",
       "      <td>200512.0</td>\n",
       "      <td>USED</td>\n",
       "      <td>2009-10-26 13:02:07</td>\n",
       "      <td>True</td>\n",
       "      <td>False</td>\n",
       "      <td>False</td>\n",
       "      <td>False</td>\n",
       "      <td>False</td>\n",
       "      <td>True</td>\n",
       "    </tr>\n",
       "    <tr>\n",
       "      <th>25</th>\n",
       "      <td>EstateCar</td>\n",
       "      <td>1900</td>\n",
       "      <td>9.0</td>\n",
       "      <td>10591.000000</td>\n",
       "      <td>152408.0</td>\n",
       "      <td>200506.0</td>\n",
       "      <td>USED</td>\n",
       "      <td>2009-10-28 13:08:27</td>\n",
       "      <td>True</td>\n",
       "      <td>True</td>\n",
       "      <td>False</td>\n",
       "      <td>False</td>\n",
       "      <td>False</td>\n",
       "      <td>True</td>\n",
       "    </tr>\n",
       "    <tr>\n",
       "      <th>33</th>\n",
       "      <td>EstateCar</td>\n",
       "      <td>1900</td>\n",
       "      <td>9.0</td>\n",
       "      <td>27469.960938</td>\n",
       "      <td>6790.0</td>\n",
       "      <td>200902.0</td>\n",
       "      <td>USED</td>\n",
       "      <td>2009-10-14 13:47:07</td>\n",
       "      <td>True</td>\n",
       "      <td>True</td>\n",
       "      <td>False</td>\n",
       "      <td>False</td>\n",
       "      <td>False</td>\n",
       "      <td>True</td>\n",
       "    </tr>\n",
       "  </tbody>\n",
       "</table>\n",
       "</div>"
      ],
      "text/plain": [
       "     category  make_id  model_id  price__consumer_gross_euro   mileage  \\\n",
       "1   EstateCar     1900       9.0                11349.990234  175461.0   \n",
       "9   EstateCar     1900      10.0                 9380.000000  105000.0   \n",
       "17  EstateCar     1900       9.0                18900.000000   68050.0   \n",
       "25  EstateCar     1900       9.0                10591.000000  152408.0   \n",
       "33  EstateCar     1900       9.0                27469.960938    6790.0   \n",
       "\n",
       "    first_registration condition    modification_time  \\\n",
       "1             200801.0      USED  2011-04-06 00:38:39   \n",
       "9             200201.0      USED  2011-06-03 19:23:27   \n",
       "17            200512.0      USED  2009-10-26 13:02:07   \n",
       "25            200506.0      USED  2009-10-28 13:08:27   \n",
       "33            200902.0      USED  2009-10-14 13:47:07   \n",
       "\n",
       "    features_central_locking  features_full_service_history  \\\n",
       "1                       True                           True   \n",
       "9                       True                           True   \n",
       "17                      True                          False   \n",
       "25                      True                           True   \n",
       "33                      True                           True   \n",
       "\n",
       "    features_hu_au_neu  features_nonsmoker_vehicle  \\\n",
       "1                False                       False   \n",
       "9                False                       False   \n",
       "17               False                       False   \n",
       "25               False                       False   \n",
       "33               False                       False   \n",
       "\n",
       "    features_adaptive_cruise_ctl  features_abs  \n",
       "1                          False          True  \n",
       "9                          False          True  \n",
       "17                         False          True  \n",
       "25                         False          True  \n",
       "33                         False          True  "
      ]
     },
     "execution_count": 39,
     "metadata": {},
     "output_type": "execute_result"
    }
   ],
   "source": [
    "test_df = pd.read_csv('./test.dsv',sep='|')\n",
    "test_df.head()"
   ]
  },
  {
   "cell_type": "code",
   "execution_count": 40,
   "metadata": {
    "scrolled": false
   },
   "outputs": [
    {
     "data": {
      "text/plain": [
       "<matplotlib.axes._subplots.AxesSubplot at 0x7f102544f828>"
      ]
     },
     "execution_count": 40,
     "metadata": {},
     "output_type": "execute_result"
    },
    {
     "data": {
      "image/png": "[encoded data removed]",
      "text/plain": [
       "<Figure size 432x288 with 1 Axes>"
      ]
     },
     "metadata": {
      "needs_background": "light"
     },
     "output_type": "display_data"
    }
   ],
   "source": [
    "kdeplot(test_df['price__consumer_gross_euro'])"
   ]
  },
  {
   "cell_type": "code",
   "execution_count": 41,
   "metadata": {},
   "outputs": [
    {
     "name": "stderr",
     "output_type": "stream",
     "text": [
      "/home/mbaddar/mbaddar/ds/ebay_interview/car_price_pred_env/lib/python3.7/site-packages/ipykernel_launcher.py:9: SettingWithCopyWarning: \n",
      "A value is trying to be set on a copy of a slice from a DataFrame.\n",
      "Try using .loc[row_indexer,col_indexer] = value instead\n",
      "\n",
      "See the caveats in the documentation: http://pandas.pydata.org/pandas-docs/stable/user_guide/indexing.html#returning-a-view-versus-a-copy\n",
      "  if __name__ == '__main__':\n",
      "/home/mbaddar/mbaddar/ds/ebay_interview/car_price_pred_env/lib/python3.7/site-packages/ipykernel_launcher.py:10: SettingWithCopyWarning: \n",
      "A value is trying to be set on a copy of a slice from a DataFrame.\n",
      "Try using .loc[row_indexer,col_indexer] = value instead\n",
      "\n",
      "See the caveats in the documentation: http://pandas.pydata.org/pandas-docs/stable/user_guide/indexing.html#returning-a-view-versus-a-copy\n",
      "  # Remove the CWD from sys.path while we load stuff.\n",
      "/home/mbaddar/mbaddar/ds/ebay_interview/car_price_pred_env/lib/python3.7/site-packages/ipykernel_launcher.py:13: SettingWithCopyWarning: \n",
      "A value is trying to be set on a copy of a slice from a DataFrame.\n",
      "Try using .loc[row_indexer,col_indexer] = value instead\n",
      "\n",
      "See the caveats in the documentation: http://pandas.pydata.org/pandas-docs/stable/user_guide/indexing.html#returning-a-view-versus-a-copy\n",
      "  del sys.path[0]\n"
     ]
    },
    {
     "data": {
      "text/plain": [
       "Index(['category', 'make_id', 'model_id', 'price__consumer_gross_euro',\n",
       "       'mileage', 'first_registration', 'condition', 'modification_time',\n",
       "       'features_central_locking', 'features_full_service_history',\n",
       "       'features_hu_au_neu', 'features_nonsmoker_vehicle',\n",
       "       'features_adaptive_cruise_ctl', 'features_abs',\n",
       "       'first_registration_date'],\n",
       "      dtype='object')"
      ]
     },
     "execution_count": 41,
     "metadata": {},
     "output_type": "execute_result"
    }
   ],
   "source": [
    "test_df_pp = preprocess(test_df)\n",
    "test_df_pp.columns"
   ]
  },
  {
   "cell_type": "code",
   "execution_count": 42,
   "metadata": {},
   "outputs": [
    {
     "name": "stderr",
     "output_type": "stream",
     "text": [
      "/home/mbaddar/mbaddar/ds/ebay_interview/car_price_pred_env/lib/python3.7/site-packages/pandas/core/frame.py:7138: FutureWarning: Sorting because non-concatenation axis is not aligned. A future version\n",
      "of pandas will change to not sort by default.\n",
      "\n",
      "To accept the future behavior, pass 'sort=False'.\n",
      "\n",
      "To retain the current behavior and silence the warning, pass 'sort=True'.\n",
      "\n",
      "  sort=sort,\n"
     ]
    }
   ],
   "source": [
    "N_train = train_df_pp.shape[0]\n",
    "aug_df = train_df_pp.append(test_df_pp,ignore_index=True)"
   ]
  },
  {
   "cell_type": "code",
   "execution_count": 43,
   "metadata": {
    "scrolled": false
   },
   "outputs": [
    {
     "data": {
      "text/plain": [
       "(2092, 57)"
      ]
     },
     "execution_count": 43,
     "metadata": {},
     "output_type": "execute_result"
    }
   ],
   "source": [
    "aug_df_pp_features = gen_features(aug_df)\n",
    "test_df_pp_features = aug_df_pp_features[(N_train+1):]\n",
    "test_df_pp_features.shape"
   ]
  },
  {
   "cell_type": "code",
   "execution_count": 44,
   "metadata": {},
   "outputs": [
    {
     "data": {
      "text/plain": [
       "(10777, 57)"
      ]
     },
     "execution_count": 44,
     "metadata": {},
     "output_type": "execute_result"
    }
   ],
   "source": [
    "train_df_features.shape"
   ]
  },
  {
   "cell_type": "code",
   "execution_count": 45,
   "metadata": {
    "scrolled": false
   },
   "outputs": [
    {
     "data": {
      "text/html": [
       "<div>\n",
       "<style scoped>\n",
       "    .dataframe tbody tr th:only-of-type {\n",
       "        vertical-align: middle;\n",
       "    }\n",
       "\n",
       "    .dataframe tbody tr th {\n",
       "        vertical-align: top;\n",
       "    }\n",
       "\n",
       "    .dataframe thead th {\n",
       "        text-align: right;\n",
       "    }\n",
       "</style>\n",
       "<table border=\"1\" class=\"dataframe\">\n",
       "  <thead>\n",
       "    <tr style=\"text-align: right;\">\n",
       "      <th></th>\n",
       "      <th>features_abs</th>\n",
       "      <th>features_adaptive_cruise_ctl</th>\n",
       "      <th>features_central_locking</th>\n",
       "      <th>features_full_service_history</th>\n",
       "      <th>features_hu_au_neu</th>\n",
       "      <th>features_nonsmoker_vehicle</th>\n",
       "      <th>price__consumer_gross_euro</th>\n",
       "      <th>category_EstateCar</th>\n",
       "      <th>category_Limousine</th>\n",
       "      <th>category_OffRoad</th>\n",
       "      <th>...</th>\n",
       "      <th>model_id_34.0</th>\n",
       "      <th>model_id_35.0</th>\n",
       "      <th>model_id_36.0</th>\n",
       "      <th>model_id_37.0</th>\n",
       "      <th>model_id_38.0</th>\n",
       "      <th>model_id_39.0</th>\n",
       "      <th>model_id_40.0</th>\n",
       "      <th>model_id_41.0</th>\n",
       "      <th>mileage_scaled</th>\n",
       "      <th>months_since_first_registration_scaled</th>\n",
       "    </tr>\n",
       "  </thead>\n",
       "  <tbody>\n",
       "    <tr>\n",
       "      <th>0</th>\n",
       "      <td>1</td>\n",
       "      <td>0</td>\n",
       "      <td>1</td>\n",
       "      <td>1</td>\n",
       "      <td>0</td>\n",
       "      <td>0</td>\n",
       "      <td>9380.000000</td>\n",
       "      <td>1</td>\n",
       "      <td>0</td>\n",
       "      <td>0</td>\n",
       "      <td>...</td>\n",
       "      <td>0</td>\n",
       "      <td>0</td>\n",
       "      <td>0</td>\n",
       "      <td>0</td>\n",
       "      <td>0</td>\n",
       "      <td>0</td>\n",
       "      <td>0</td>\n",
       "      <td>0</td>\n",
       "      <td>0.110287</td>\n",
       "      <td>0.262948</td>\n",
       "    </tr>\n",
       "    <tr>\n",
       "      <th>1</th>\n",
       "      <td>1</td>\n",
       "      <td>0</td>\n",
       "      <td>1</td>\n",
       "      <td>0</td>\n",
       "      <td>0</td>\n",
       "      <td>0</td>\n",
       "      <td>18900.000000</td>\n",
       "      <td>1</td>\n",
       "      <td>0</td>\n",
       "      <td>0</td>\n",
       "      <td>...</td>\n",
       "      <td>0</td>\n",
       "      <td>0</td>\n",
       "      <td>0</td>\n",
       "      <td>0</td>\n",
       "      <td>0</td>\n",
       "      <td>0</td>\n",
       "      <td>0</td>\n",
       "      <td>0</td>\n",
       "      <td>0.071477</td>\n",
       "      <td>0.188958</td>\n",
       "    </tr>\n",
       "    <tr>\n",
       "      <th>2</th>\n",
       "      <td>1</td>\n",
       "      <td>0</td>\n",
       "      <td>1</td>\n",
       "      <td>1</td>\n",
       "      <td>0</td>\n",
       "      <td>0</td>\n",
       "      <td>10591.000000</td>\n",
       "      <td>1</td>\n",
       "      <td>0</td>\n",
       "      <td>0</td>\n",
       "      <td>...</td>\n",
       "      <td>0</td>\n",
       "      <td>0</td>\n",
       "      <td>0</td>\n",
       "      <td>0</td>\n",
       "      <td>0</td>\n",
       "      <td>0</td>\n",
       "      <td>0</td>\n",
       "      <td>0</td>\n",
       "      <td>0.160082</td>\n",
       "      <td>0.198427</td>\n",
       "    </tr>\n",
       "    <tr>\n",
       "      <th>3</th>\n",
       "      <td>1</td>\n",
       "      <td>0</td>\n",
       "      <td>1</td>\n",
       "      <td>1</td>\n",
       "      <td>0</td>\n",
       "      <td>0</td>\n",
       "      <td>27469.960938</td>\n",
       "      <td>1</td>\n",
       "      <td>0</td>\n",
       "      <td>0</td>\n",
       "      <td>...</td>\n",
       "      <td>0</td>\n",
       "      <td>0</td>\n",
       "      <td>0</td>\n",
       "      <td>0</td>\n",
       "      <td>0</td>\n",
       "      <td>0</td>\n",
       "      <td>0</td>\n",
       "      <td>0</td>\n",
       "      <td>0.007132</td>\n",
       "      <td>0.129042</td>\n",
       "    </tr>\n",
       "    <tr>\n",
       "      <th>4</th>\n",
       "      <td>1</td>\n",
       "      <td>0</td>\n",
       "      <td>1</td>\n",
       "      <td>1</td>\n",
       "      <td>0</td>\n",
       "      <td>0</td>\n",
       "      <td>7650.000000</td>\n",
       "      <td>0</td>\n",
       "      <td>1</td>\n",
       "      <td>0</td>\n",
       "      <td>...</td>\n",
       "      <td>0</td>\n",
       "      <td>0</td>\n",
       "      <td>0</td>\n",
       "      <td>0</td>\n",
       "      <td>0</td>\n",
       "      <td>0</td>\n",
       "      <td>0</td>\n",
       "      <td>0</td>\n",
       "      <td>0.216825</td>\n",
       "      <td>0.333885</td>\n",
       "    </tr>\n",
       "    <tr>\n",
       "      <th>...</th>\n",
       "      <td>...</td>\n",
       "      <td>...</td>\n",
       "      <td>...</td>\n",
       "      <td>...</td>\n",
       "      <td>...</td>\n",
       "      <td>...</td>\n",
       "      <td>...</td>\n",
       "      <td>...</td>\n",
       "      <td>...</td>\n",
       "      <td>...</td>\n",
       "      <td>...</td>\n",
       "      <td>...</td>\n",
       "      <td>...</td>\n",
       "      <td>...</td>\n",
       "      <td>...</td>\n",
       "      <td>...</td>\n",
       "      <td>...</td>\n",
       "      <td>...</td>\n",
       "      <td>...</td>\n",
       "      <td>...</td>\n",
       "      <td>...</td>\n",
       "    </tr>\n",
       "    <tr>\n",
       "      <th>95</th>\n",
       "      <td>1</td>\n",
       "      <td>0</td>\n",
       "      <td>1</td>\n",
       "      <td>0</td>\n",
       "      <td>1</td>\n",
       "      <td>0</td>\n",
       "      <td>2300.000000</td>\n",
       "      <td>0</td>\n",
       "      <td>1</td>\n",
       "      <td>0</td>\n",
       "      <td>...</td>\n",
       "      <td>0</td>\n",
       "      <td>0</td>\n",
       "      <td>0</td>\n",
       "      <td>0</td>\n",
       "      <td>0</td>\n",
       "      <td>0</td>\n",
       "      <td>0</td>\n",
       "      <td>0</td>\n",
       "      <td>0.193265</td>\n",
       "      <td>0.338542</td>\n",
       "    </tr>\n",
       "    <tr>\n",
       "      <th>96</th>\n",
       "      <td>1</td>\n",
       "      <td>0</td>\n",
       "      <td>1</td>\n",
       "      <td>0</td>\n",
       "      <td>0</td>\n",
       "      <td>0</td>\n",
       "      <td>12000.000000</td>\n",
       "      <td>1</td>\n",
       "      <td>0</td>\n",
       "      <td>0</td>\n",
       "      <td>...</td>\n",
       "      <td>0</td>\n",
       "      <td>0</td>\n",
       "      <td>0</td>\n",
       "      <td>0</td>\n",
       "      <td>0</td>\n",
       "      <td>0</td>\n",
       "      <td>0</td>\n",
       "      <td>0</td>\n",
       "      <td>0.018906</td>\n",
       "      <td>0.144875</td>\n",
       "    </tr>\n",
       "    <tr>\n",
       "      <th>97</th>\n",
       "      <td>1</td>\n",
       "      <td>0</td>\n",
       "      <td>1</td>\n",
       "      <td>0</td>\n",
       "      <td>0</td>\n",
       "      <td>0</td>\n",
       "      <td>6500.000000</td>\n",
       "      <td>1</td>\n",
       "      <td>0</td>\n",
       "      <td>0</td>\n",
       "      <td>...</td>\n",
       "      <td>0</td>\n",
       "      <td>0</td>\n",
       "      <td>0</td>\n",
       "      <td>0</td>\n",
       "      <td>0</td>\n",
       "      <td>0</td>\n",
       "      <td>0</td>\n",
       "      <td>0</td>\n",
       "      <td>0.073420</td>\n",
       "      <td>0.207844</td>\n",
       "    </tr>\n",
       "    <tr>\n",
       "      <th>98</th>\n",
       "      <td>0</td>\n",
       "      <td>0</td>\n",
       "      <td>1</td>\n",
       "      <td>1</td>\n",
       "      <td>0</td>\n",
       "      <td>0</td>\n",
       "      <td>10490.000000</td>\n",
       "      <td>0</td>\n",
       "      <td>1</td>\n",
       "      <td>0</td>\n",
       "      <td>...</td>\n",
       "      <td>0</td>\n",
       "      <td>0</td>\n",
       "      <td>0</td>\n",
       "      <td>0</td>\n",
       "      <td>0</td>\n",
       "      <td>0</td>\n",
       "      <td>0</td>\n",
       "      <td>0</td>\n",
       "      <td>0.049682</td>\n",
       "      <td>0.215760</td>\n",
       "    </tr>\n",
       "    <tr>\n",
       "      <th>99</th>\n",
       "      <td>1</td>\n",
       "      <td>0</td>\n",
       "      <td>1</td>\n",
       "      <td>1</td>\n",
       "      <td>0</td>\n",
       "      <td>0</td>\n",
       "      <td>10990.000000</td>\n",
       "      <td>0</td>\n",
       "      <td>1</td>\n",
       "      <td>0</td>\n",
       "      <td>...</td>\n",
       "      <td>0</td>\n",
       "      <td>0</td>\n",
       "      <td>0</td>\n",
       "      <td>0</td>\n",
       "      <td>0</td>\n",
       "      <td>0</td>\n",
       "      <td>0</td>\n",
       "      <td>0</td>\n",
       "      <td>0.106086</td>\n",
       "      <td>0.214156</td>\n",
       "    </tr>\n",
       "  </tbody>\n",
       "</table>\n",
       "<p>100 rows × 57 columns</p>\n",
       "</div>"
      ],
      "text/plain": [
       "    features_abs  features_adaptive_cruise_ctl  features_central_locking  \\\n",
       "0              1                             0                         1   \n",
       "1              1                             0                         1   \n",
       "2              1                             0                         1   \n",
       "3              1                             0                         1   \n",
       "4              1                             0                         1   \n",
       "..           ...                           ...                       ...   \n",
       "95             1                             0                         1   \n",
       "96             1                             0                         1   \n",
       "97             1                             0                         1   \n",
       "98             0                             0                         1   \n",
       "99             1                             0                         1   \n",
       "\n",
       "    features_full_service_history  features_hu_au_neu  \\\n",
       "0                               1                   0   \n",
       "1                               0                   0   \n",
       "2                               1                   0   \n",
       "3                               1                   0   \n",
       "4                               1                   0   \n",
       "..                            ...                 ...   \n",
       "95                              0                   1   \n",
       "96                              0                   0   \n",
       "97                              0                   0   \n",
       "98                              1                   0   \n",
       "99                              1                   0   \n",
       "\n",
       "    features_nonsmoker_vehicle  price__consumer_gross_euro  \\\n",
       "0                            0                 9380.000000   \n",
       "1                            0                18900.000000   \n",
       "2                            0                10591.000000   \n",
       "3                            0                27469.960938   \n",
       "4                            0                 7650.000000   \n",
       "..                         ...                         ...   \n",
       "95                           0                 2300.000000   \n",
       "96                           0                12000.000000   \n",
       "97                           0                 6500.000000   \n",
       "98                           0                10490.000000   \n",
       "99                           0                10990.000000   \n",
       "\n",
       "    category_EstateCar  category_Limousine  category_OffRoad  ...  \\\n",
       "0                    1                   0                 0  ...   \n",
       "1                    1                   0                 0  ...   \n",
       "2                    1                   0                 0  ...   \n",
       "3                    1                   0                 0  ...   \n",
       "4                    0                   1                 0  ...   \n",
       "..                 ...                 ...               ...  ...   \n",
       "95                   0                   1                 0  ...   \n",
       "96                   1                   0                 0  ...   \n",
       "97                   1                   0                 0  ...   \n",
       "98                   0                   1                 0  ...   \n",
       "99                   0                   1                 0  ...   \n",
       "\n",
       "    model_id_34.0  model_id_35.0  model_id_36.0  model_id_37.0  model_id_38.0  \\\n",
       "0               0              0              0              0              0   \n",
       "1               0              0              0              0              0   \n",
       "2               0              0              0              0              0   \n",
       "3               0              0              0              0              0   \n",
       "4               0              0              0              0              0   \n",
       "..            ...            ...            ...            ...            ...   \n",
       "95              0              0              0              0              0   \n",
       "96              0              0              0              0              0   \n",
       "97              0              0              0              0              0   \n",
       "98              0              0              0              0              0   \n",
       "99              0              0              0              0              0   \n",
       "\n",
       "    model_id_39.0  model_id_40.0  model_id_41.0  mileage_scaled  \\\n",
       "0               0              0              0        0.110287   \n",
       "1               0              0              0        0.071477   \n",
       "2               0              0              0        0.160082   \n",
       "3               0              0              0        0.007132   \n",
       "4               0              0              0        0.216825   \n",
       "..            ...            ...            ...             ...   \n",
       "95              0              0              0        0.193265   \n",
       "96              0              0              0        0.018906   \n",
       "97              0              0              0        0.073420   \n",
       "98              0              0              0        0.049682   \n",
       "99              0              0              0        0.106086   \n",
       "\n",
       "    months_since_first_registration_scaled  \n",
       "0                                 0.262948  \n",
       "1                                 0.188958  \n",
       "2                                 0.198427  \n",
       "3                                 0.129042  \n",
       "4                                 0.333885  \n",
       "..                                     ...  \n",
       "95                                0.338542  \n",
       "96                                0.144875  \n",
       "97                                0.207844  \n",
       "98                                0.215760  \n",
       "99                                0.214156  \n",
       "\n",
       "[100 rows x 57 columns]"
      ]
     },
     "execution_count": 45,
     "metadata": {},
     "output_type": "execute_result"
    }
   ],
   "source": [
    "test_df_pp_feat_scale = scale_normalize_features(test_df_pp_features)\n",
    "test_df_pp_feat_scale.head(100)"
   ]
  },
  {
   "cell_type": "code",
   "execution_count": 46,
   "metadata": {},
   "outputs": [],
   "source": [
    "y_test = test_df_pp_feat_scale[y_colname]\n",
    "X_test = test_df_pp_feat_scale.drop(columns=[y_colname])"
   ]
  },
  {
   "cell_type": "code",
   "execution_count": 47,
   "metadata": {},
   "outputs": [
    {
     "data": {
      "text/plain": [
       "(2092, 56)"
      ]
     },
     "execution_count": 47,
     "metadata": {},
     "output_type": "execute_result"
    }
   ],
   "source": [
    "X_test.shape"
   ]
  },
  {
   "cell_type": "code",
   "execution_count": 48,
   "metadata": {},
   "outputs": [],
   "source": [
    "y_predicted = grid_search_cv_fit.best_estimator_.predict(X_test)"
   ]
  },
  {
   "cell_type": "code",
   "execution_count": 49,
   "metadata": {},
   "outputs": [
    {
     "data": {
      "text/plain": [
       "0.1641335099205275"
      ]
     },
     "execution_count": 49,
     "metadata": {},
     "output_type": "execute_result"
    }
   ],
   "source": [
    "from sklearn.metrics import mean_squared_error\n",
    "rmse = np.sqrt(mean_squared_error(y_true=y_test,y_pred=y_predicted))\n",
    "rmse/(max(y_test)-min(y_test))"
   ]
  },
  {
   "cell_type": "code",
   "execution_count": 50,
   "metadata": {},
   "outputs": [
    {
     "data": {
      "text/plain": [
       "<matplotlib.axes._subplots.AxesSubplot at 0x7f10253f3b38>"
      ]
     },
     "execution_count": 50,
     "metadata": {},
     "output_type": "execute_result"
    },
    {
     "data": {
      "image/png": "[encoded data removed]",
      "text/plain": [
       "<Figure size 432x288 with 1 Axes>"
      ]
     },
     "metadata": {
      "needs_background": "light"
     },
     "output_type": "display_data"
    }
   ],
   "source": [
    "from seaborn import scatterplot\n",
    "scatterplot(x=y_test,y=y_predicted)"
   ]
  },
  {
   "cell_type": "code",
   "execution_count": 51,
   "metadata": {},
   "outputs": [
    {
     "data": {
      "text/plain": [
       "26.620489073106267"
      ]
     },
     "execution_count": 51,
     "metadata": {},
     "output_type": "execute_result"
    }
   ],
   "source": [
    "def smape(A, F):\n",
    "    return 100/len(A) * np.sum(np.abs(F - A) / (np.abs(A) + np.abs(F)))\n",
    "smape(A=y_test,F=y_predicted)"
   ]
  },
  {
   "cell_type": "code",
   "execution_count": 52,
   "metadata": {},
   "outputs": [],
   "source": [
    "# TODO next, handle outlier prices, find common feature and create a different model"
   ]
  }
 ],
 "metadata": {
  "kernelspec": {
   "display_name": "Python 3",
   "language": "python",
   "name": "python3"
  },
  "language_info": {
   "codemirror_mode": {
    "name": "ipython",
    "version": 3
   },
   "file_extension": ".py",
   "mimetype": "text/x-python",
   "name": "python",
   "nbconvert_exporter": "python",
   "pygments_lexer": "ipython3",
   "version": "3.7.3"
  }
 },
 "nbformat": 4,
 "nbformat_minor": 4
}
